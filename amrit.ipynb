{
 "cells": [
  {
   "cell_type": "code",
   "execution_count": 66,
   "id": "c8175409-eb6b-42ad-a972-a8a143202d55",
   "metadata": {},
   "outputs": [],
   "source": [
    "# import os\n",
    "# os.chdir('/content/drive/My Drive/whatsapp_data')\n",
    "\n",
    "\n",
    "# from google.colab import drive\n",
    "# drive.mount('/content/drive')\n",
    "# filename = '/content/drive/My Drive/whatsapp_data/dat.txt'\n",
    "# with open(filename, 'r') as f:\n",
    "#     text = f.read()\n",
    "\n",
    "\n",
    "import re\n",
    "import csv\n",
    "\n",
    "# Function to parse the WhatsApp export text file\n",
    "def parse_whatsapp_chat(file_path):\n",
    "    # Regex pattern to match the date, time, name, and message\n",
    "    pattern = re.compile(r\"(\\d{1,2}/\\d{1,2}/\\d{2,4}), (\\d{1,2}:\\d{2}) - ([^:]+): (.+)\")\n",
    "    chat_data = []\n",
    "\n",
    "    with open('SALAMATnurses.txt', 'r', encoding='utf-8') as file:\n",
    "        lines = file.readlines()\n",
    "\n",
    "    for line in lines:\n",
    "        match = pattern.match(line)\n",
    "        if match:\n",
    "            date, time, name, message = match.groups()\n",
    "            chat_data.append([date, time, name, message])\n",
    "        else:\n",
    "            # Handle multiline messages\n",
    "            if chat_data:\n",
    "                chat_data[-1][-1] += f\" {line.strip()}\"\n",
    "\n",
    "    return chat_data\n",
    "\n",
    "# Function to save parsed data to a CSV file\n",
    "def save_to_csv(data, output_file):\n",
    "    headers = [\"Date\", \"Time\", \"Name\", \"Message\"]\n",
    "    with open(output_file, 'w', newline='', encoding='utf-8') as file:\n",
    "        writer = csv.writer(file)\n",
    "        writer.writerow(headers)\n",
    "        writer.writerows(data)\n",
    "\n",
    "# Path to the input text file\n",
    "input_file = 'SALAMATnurses.txt'\n",
    "\n",
    "# Path to the output CSV file\n",
    "output_file = 'SALAMATnurseswhatsapp_data.csv'\n",
    "\n",
    "# Parse the chat file\n",
    "parsed_data = parse_whatsapp_chat(input_file)\n",
    "\n",
    "# Save the parsed data to a CSV file\n",
    "save_to_csv(parsed_data, output_file)"
   ]
  },
  {
   "cell_type": "code",
   "execution_count": null,
   "id": "62279281-2a80-4c63-860e-f4ffc4098c83",
   "metadata": {},
   "outputs": [],
   "source": []
  }
 ],
 "metadata": {
  "kernelspec": {
   "display_name": "Python 3 (ipykernel)",
   "language": "python",
   "name": "python3"
  },
  "language_info": {
   "codemirror_mode": {
    "name": "ipython",
    "version": 3
   },
   "file_extension": ".py",
   "mimetype": "text/x-python",
   "name": "python",
   "nbconvert_exporter": "python",
   "pygments_lexer": "ipython3",
   "version": "3.11.7"
  }
 },
 "nbformat": 4,
 "nbformat_minor": 5
}
